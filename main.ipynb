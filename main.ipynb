{
 "cells": [
  {
   "attachments": {},
   "cell_type": "markdown",
   "id": "3ff562d1",
   "metadata": {},
   "source": [
    "# Preparations"
   ]
  },
  {
   "cell_type": "code",
   "execution_count": 1,
   "id": "e71d66fb",
   "metadata": {},
   "outputs": [],
   "source": [
    "%load_ext autoreload\n",
    "%autoreload 2"
   ]
  },
  {
   "cell_type": "code",
   "execution_count": 2,
   "id": "1ce60aae",
   "metadata": {},
   "outputs": [],
   "source": [
    "import glob\n",
    "import torch\n",
    "import numpy as np\n",
    "import nibabel as nib\n",
    "import os\n",
    "import matplotlib.pyplot as plt\n",
    "import pandas as pd\n",
    "import seaborn as sns\n",
    "import nibabel as nib\n",
    "\n",
    "# import other scripts\n",
    "import processing.preprocess_patients as from_preprocess_patients\n",
    "import patients.patients as from_patients\n",
    "import analysis.bayesian_optimization_plot as from_bayesian_optimization_plot\n",
    "import analysis.simplot as from_simplot\n",
    "import analysis.patientplot as from_patientplot\n",
    "import analysis.patient_populationA_plot as from_patient_populationA_plot\n"
   ]
  },
  {
   "cell_type": "markdown",
   "id": "7eea9538",
   "metadata": {},
   "source": [
    "# Simulations"
   ]
  },
  {
   "cell_type": "markdown",
   "id": "43680094",
   "metadata": {},
   "source": [
    "## Model selection"
   ]
  },
  {
   "cell_type": "code",
   "execution_count": 1,
   "id": "1e22fdd4",
   "metadata": {},
   "outputs": [],
   "source": [
    "BOplt = from_bayesian_optimization_plot.BOplt()\n",
    "\n",
    "BOplt.plot_BO_individual_models(num_bvals=11, learning='sup')\n",
    "BOplt.plot_BO_individual_models(num_bvals=5, learning='sup')\n",
    "BOplt.plot_BO_individual_models(num_bvals=4, learning='sup')\n",
    "BOplt.plot_BO_individual_models(num_bvals=11, learning='slf')\n",
    "BOplt.plot_BO_individual_models(num_bvals=5, learning='slf')\n",
    "BOplt.plot_BO_individual_models(num_bvals=4, learning='slf')\n",
    "BOplt.plot_BO_all_models()\n",
    "\n",
    "BOplt.plot_BO_individual_models_allinone()"
   ]
  },
  {
   "cell_type": "markdown",
   "id": "b4e9f3e6",
   "metadata": {},
   "source": [
    "## Model evaluation"
   ]
  },
  {
   "cell_type": "code",
   "execution_count": null,
   "id": "87c6e1d0",
   "metadata": {},
   "outputs": [],
   "source": [
    "# User specific input\n",
    "snrs = np.array([8, 10, 12, 15, 20, 25, 35, 50, 75, 100])\n",
    "num_bvals = 11\n",
    "reps = 25\n",
    "num_load = 100000\n",
    "exp_name = f'r{reps}_optim_snr20_d0509'\n",
    "\n",
    "#################################################################\n",
    "\n",
    "if num_bvals == 4:\n",
    "    bvals = np.array([0, 50, 100, 800])\n",
    "elif num_bvals == 5:\n",
    "    bvals = np.array([0, 50, 100, 200, 800])\n",
    "elif num_bvals == 11:\n",
    "    bvals = np.array([0, 10, 20, 30, 40, 50, 60, 100, 200, 500, 800])\n",
    "\n",
    "simplt_bvalset = from_simplot.Simplt_bvalset(snrs, bvals, reps, exp_name, num_load)\n",
    "simplt_bvalset.plot_sim_stat()\n",
    "simplt_bvalset.plot_pred_vs_truth()\n",
    "simplt_bvalset.print_sim_stats()\n",
    "simplt_bvalset.plot_param_space()\n",
    "\n",
    "simplt_allbvalsets = from_simplot.Simplt_allbvalsets(snrs, reps, exp_name)\n",
    "simplt_allbvalsets.plt_signal_rmse('estimated_generalisation_signal_rmse')\n",
    "simplt_allbvalsets.plt_signal_rmse('estimated_expected_estimation_signal_rmse')"
   ]
  },
  {
   "cell_type": "markdown",
   "id": "580f0c2c",
   "metadata": {},
   "source": [
    "# EMINIENCE A"
   ]
  },
  {
   "cell_type": "markdown",
   "id": "b532f163",
   "metadata": {},
   "source": [
    "## Preprocessing"
   ]
  },
  {
   "cell_type": "code",
   "execution_count": null,
   "id": "6f12c327",
   "metadata": {},
   "outputs": [],
   "source": [
    "def preprocess_patient_dataA():\n",
    "    # user specific parameters\n",
    "    patient_ids = ['EMIN_1001', 'EMIN_1005', 'EMIN_1007', 'EMIN_1011', 'EMIN_1019',\n",
    "                   'EMIN_1020', 'EMIN_1022', 'EMIN_1032', 'EMIN_1038', 'EMIN_1042', \n",
    "                   'EMIN_1044', 'EMIN_1045', 'EMIN_1048', 'EMIN_1055', 'EMIN_1057', \n",
    "                   'EMIN_1060', 'EMIN_1064', 'EMIN_1066', 'EMIN_1068', 'EMIN_1075', \n",
    "                   'EMIN_1077', 'EMIN_1079', 'EMIN_1081', 'EMIN_1084', 'EMIN_1086',\n",
    "                   'EMIN_1090', 'EMIN_1092', 'EMIN_1093', 'EMIN_1096', 'EMIN_1097', \n",
    "                   'EMIN_1099']\n",
    "    mask_root_names = ['GTVn']\n",
    "    \n",
    "    # preprocessing\n",
    "    for patient_id in patient_ids:\n",
    "        dir_preprocessed_patient = f'../dataA/preprocessed/{patient_id}'\n",
    "        dir_raw_dwi = glob.glob(f'../dataA/raw/{patient_id}/MRIdata/EP2D_STIR_DIFF_TRA_2_09I_5B-VERDIER_TRACEW_*')[0]\n",
    "        \n",
    "        preprocess = from_preprocess_patients.Preprocess(patient_id, dir_preprocessed_patient, dir_raw_dwi)\n",
    "        preprocess.run_preprocessing()\n",
    "        \n",
    "        mask_names = []\n",
    "        for mask_root_name in mask_root_names:\n",
    "            fnames_mask = glob.glob(f'../dataA/raw/{patient_id}/Segmentation/mask_{mask_root_name}' + '*.nii.gz')\n",
    "\n",
    "            for fname_mask in fnames_mask: \n",
    "                mask_name = fname_mask.split(f'../dataA/raw/{patient_id}/Segmentation/mask_')[1].split('.nii.gz')[0]\n",
    "                mask_names.append(mask_name)\n",
    "\n",
    "                # resample mask\n",
    "                preprocess.resample_mask(mask_name, fname_mask)\n",
    "\n",
    "        np.save(f'../dataA/preprocessed/{patient_id}/mask_names', mask_names)\n",
    "\n",
    "preprocess_patient_dataA()"
   ]
  },
  {
   "cell_type": "markdown",
   "id": "4eda8615",
   "metadata": {},
   "source": [
    "## Run algorithms"
   ]
  },
  {
   "cell_type": "code",
   "execution_count": null,
   "id": "a53cb89d",
   "metadata": {},
   "outputs": [],
   "source": [
    "#from patients.A_b5_hyperparams_supervised import net_pars  # uncomment if using 5 b-values\n",
    "from patients.A_b4_hyperparams_supervised import net_pars  # uncomment if using 4 b-values\n",
    "\n",
    "def run_algorithms():\n",
    "    # user specific parameters\n",
    "    patient_ids = ['EMIN_1001', 'EMIN_1005', 'EMIN_1007', 'EMIN_1011', 'EMIN_1019',\n",
    "                   'EMIN_1020', 'EMIN_1022', 'EMIN_1032', 'EMIN_1038', 'EMIN_1042', \n",
    "                   'EMIN_1044', 'EMIN_1045', 'EMIN_1048', 'EMIN_1055', 'EMIN_1057', \n",
    "                   'EMIN_1060', 'EMIN_1064', 'EMIN_1066', 'EMIN_1068', 'EMIN_1075', \n",
    "                   'EMIN_1077', 'EMIN_1079', 'EMIN_1081', 'EMIN_1084', 'EMIN_1086',\n",
    "                   'EMIN_1090', 'EMIN_1092', 'EMIN_1093', 'EMIN_1096', 'EMIN_1097', \n",
    "                   'EMIN_1099']\n",
    "    mask_root_names = ['GTVn']\n",
    "    dataset_name = 'dataA'\n",
    "    nums_bvals = [4, 5]\n",
    "    training_method = 'a'\n",
    "    average = 0\n",
    "    #################################################################\n",
    "\n",
    "    df_param_stats = pd.DataFrame(columns=['patient_id', 'num_bvals', 'method', 'param', 'param_val'])\n",
    "    df_param_diffs_stats = pd.DataFrame(columns=['patient_id', 'num_bvals', 'method', 'param', 'param_val'])\n",
    "    df_CV_stats = pd.DataFrame(columns=['patient_id', 'param', 'param_val'])\n",
    "    for patient_id in patient_ids:\n",
    "\n",
    "        # Run algorithms\n",
    "        for num_bvals in nums_bvals:\n",
    "            save_name = f'patientsA_LOO_{training_method}_b{num_bvals}'\n",
    "\n",
    "            mask_names = []\n",
    "            for mask_root_name in mask_root_names:\n",
    "                fnames_mask = glob.glob(f'../dataA/raw/{patient_id}/Segmentation/mask_{mask_root_name}' + '*.nii.gz')\n",
    "                for fname_mask in fnames_mask: \n",
    "                    mask_name = fname_mask.split(f'../dataA/raw/{patient_id}/Segmentation/mask_')[1].split('.nii.gz')[0]\n",
    "                    mask_names.append(mask_name)\n",
    "\n",
    "                    \"\"\"\n",
    "                    # lsq\n",
    "                    ivim_lsq = from_patients.IVIM_fit(patient_id, \n",
    "                                                    mask_name, \n",
    "                                                    method='lsq', \n",
    "                                                    dataset_name=dataset_name,\n",
    "                                                    num_bvals=num_bvals,\n",
    "                                                    save_name=save_name)\n",
    "                    ivim_lsq.fit_ivim()\n",
    "\n",
    "                    # seg\n",
    "                    ivim_seg = from_patients.IVIM_fit(patient_id, mask_name, method='seg',\n",
    "                                                            dataset_name=dataset_name,\n",
    "                                                            save_name=save_name)\n",
    "                    ivim_seg.fit_ivim()\n",
    "                    \"\"\"\n",
    "                \n",
    "\n",
    "            #np.save(f'../dataA/preprocessed/{patient_id}/mask_names', mask_names)\n",
    "            \"\"\"\n",
    "            # dnn, supervised\n",
    "            dnn_supervised = from_patients.IVIM_dnn(patient_id, \n",
    "                                                    mask_names, \n",
    "                                                    learning='sup', \n",
    "                                                    dataset_name=dataset_name,\n",
    "                                                    num_bvals=num_bvals,\n",
    "                                                    training_method='a',\n",
    "                                                    save_name=save_name)\n",
    "            trained_model_dnn_supervised = torch.load(f'../simulations/simulations_data/b{num_bvals}/snr20/dnn_sup/r5_optim_snr20_d0428/trained_model_net_1')\n",
    "            dnn_supervised.predict_ivim(trained_model_dnn_supervised)\n",
    "            \"\"\"\n",
    "            \"\"\"\n",
    "            # dnn, self-supervised\n",
    "            dnn_selfsupervised = from_patients.IVIM_dnn(patient_id, \n",
    "                                                        mask_names, \n",
    "                                                        learning='slf', \n",
    "                                                        dataset_name=dataset_name,\n",
    "                                                        num_bvals=num_bvals,\n",
    "                                                        training_method=training_method,\n",
    "                                                        save_name=save_name)\n",
    "            #trained_model_dnn_selfsupervised = dnn_selfsupervised.train_ivim()\n",
    "            trained_model_dnn_selfsupervised = torch.load(f'../dataA/output/{save_name}/{patient_id}/dnn_slf/trained_model_net')\n",
    "            dnn_selfsupervised.predict_ivim(trained_model_dnn_selfsupervised)\n",
    "            \"\"\"\n",
    "\n",
    "\n",
    "        # Plotting\n",
    "        for mask_name in mask_names:\n",
    "            save_name_b5 = f'patientsA_LOO_{training_method}_b5'\n",
    "            save_name_b4 = f'patientsA_LOO_{training_method}_b4'\n",
    "            \n",
    "            patientplt_ivim_b5 = from_patientplot.PatientpltIVIM(patient_id, mask_name, average=average, save_name = save_name_b5)\n",
    "            patientplt_ivim_b5.plt_masked_param_map()\n",
    "            patientplt_ivim_b5.plt_CV()\n",
    "            patientplt_ivim_b5.plt_consistency()\n",
    "\n",
    "            patientplt_ivim_b4 = from_patientplot.PatientpltIVIM(patient_id, mask_name, average=average, save_name = save_name_b4)\n",
    "            patientplt_ivim_b4.plt_masked_param_map()\n",
    "            patientplt_ivim_b4.plt_CV()\n",
    "            patientplt_ivim_b4.plt_consistency()\n",
    "\n",
    "            patientplt_ivim_b5_vs_b4 = from_patientplot.Patientplt_across_bvals(patient_id, mask_name, average=average, training_method=training_method, patientplt_b5=patientplt_ivim_b5, patientplt_b4=patientplt_ivim_b4)\n",
    "            patientplt_ivim_b5_vs_b4.plt_diff_param_maps()\n",
    "\n",
    "            df_param_stats = patientplt_ivim_b5_vs_b4.add_to_df_param_stats(df_param_stats)\n",
    "            df_param_diffs_stats = patientplt_ivim_b5_vs_b4.add_to_df_param_diffs_stats(df_param_diffs_stats)\n",
    "            df_CV_stats = patientplt_ivim_b5_vs_b4.add_to_df_CV_stats(df_CV_stats)\n",
    "\n",
    "\n",
    "run_algorithms()\n"
   ]
  },
  {
   "cell_type": "markdown",
   "id": "b23aeeb3",
   "metadata": {},
   "source": [
    "## Analysis"
   ]
  },
  {
   "cell_type": "code",
   "execution_count": null,
   "id": "0f3a4299",
   "metadata": {},
   "outputs": [],
   "source": [
    "training_method = 'b'\n",
    "\n",
    "\n",
    "ppp = from_patient_populationA_plot.Patient_populationA_plot(training_method)\n",
    "ppp.plot_ivim_params_stats()\n",
    "ppp.plot_ivim_param_diffs_stats()\n",
    "ppp.plot_CV_stats()\n",
    "\n",
    "ppp.print_ivim_params_stats(plot_name='params', num_bvals='5 b-values')\n",
    "ppp.print_ivim_params_stats(plot_name='params', num_bvals='4 b-values')\n",
    "\n",
    "ppp.print_ivim_params_stats(plot_name='param_diffs', num_bvals='5 b-values')\n",
    "ppp.print_ivim_params_stats(plot_name='param_diffs', num_bvals='4 b-values')\n",
    "\n",
    "ppp.print_ivim_params_stats(plot_name='CV', num_bvals='5 b-values')\n",
    "ppp.print_ivim_params_stats(plot_name='CV', num_bvals='4 b-values')\n",
    "\n"
   ]
  }
 ],
 "metadata": {
  "kernelspec": {
   "display_name": "Python 3 (ipykernel)",
   "language": "python",
   "name": "python3"
  },
  "language_info": {
   "codemirror_mode": {
    "name": "ipython",
    "version": 3
   },
   "file_extension": ".py",
   "mimetype": "text/x-python",
   "name": "python",
   "nbconvert_exporter": "python",
   "pygments_lexer": "ipython3",
   "version": "3.11.7"
  }
 },
 "nbformat": 4,
 "nbformat_minor": 5
}
